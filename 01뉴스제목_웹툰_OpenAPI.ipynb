{
 "cells": [
  {
   "cell_type": "markdown",
   "id": "eb0bfa44",
   "metadata": {},
   "source": [
    "## 1. 뉴스제목 가져오기\n",
    "* user-agent 요청헤더를 반드시 설정해야 한다."
   ]
  },
  {
   "cell_type": "code",
   "execution_count": 2,
   "id": "f0d27781",
   "metadata": {},
   "outputs": [
    {
     "name": "stdout",
     "output_type": "stream",
     "text": [
      "Name: requests\n",
      "Version: 2.32.3\n",
      "Summary: Python HTTP for Humans.\n",
      "Home-page: https://requests.readthedocs.io\n",
      "Author: Kenneth Reitz\n",
      "Author-email: me@kennethreitz.org\n",
      "License: Apache-2.0\n",
      "Location: d:\\anaconda3\\envs\\test\\lib\\site-packages\n",
      "Requires: certifi, charset-normalizer, idna, urllib3\n",
      "Required-by: huggingface-hub, jupyterlab_server, PyGithub, streamlit\n",
      "Note: you may need to restart the kernel to use updated packages.\n"
     ]
    }
   ],
   "source": [
    "# requests 라이브러리 설치여부 확인\n",
    "%pip show requests"
   ]
  },
  {
   "cell_type": "code",
   "execution_count": 3,
   "id": "f7798ea8",
   "metadata": {},
   "outputs": [
    {
     "name": "stdout",
     "output_type": "stream",
     "text": [
      "Name: beautifulsoup4\n",
      "Version: 4.13.3\n",
      "Summary: Screen-scraping library\n",
      "Home-page: https://www.crummy.com/software/BeautifulSoup/bs4/\n",
      "Author: \n",
      "Author-email: Leonard Richardson <leonardr@segfault.org>\n",
      "License: MIT License\n",
      "Location: d:\\anaconda3\\envs\\test\\lib\\site-packages\n",
      "Requires: soupsieve, typing-extensions\n",
      "Required-by: nbconvert\n",
      "Note: you may need to restart the kernel to use updated packages.\n"
     ]
    }
   ],
   "source": [
    "# beautifulsoup4 라이브러리 설치여부 확인\n",
    "%pip show beautifulsoup4"
   ]
  },
  {
   "cell_type": "code",
   "execution_count": 4,
   "id": "bf80a429",
   "metadata": {},
   "outputs": [],
   "source": [
    "# reqeusts, bs4 import\n",
    "import requests\n",
    "import bs4\n",
    "# BeautifulSoup 클래스 import\n",
    "from bs4 import BeautifulSoup"
   ]
  },
  {
   "cell_type": "code",
   "execution_count": 5,
   "id": "9788d6ac",
   "metadata": {},
   "outputs": [
    {
     "name": "stdout",
     "output_type": "stream",
     "text": [
      "requests version: 2.32.3\n",
      "beautifulSoup4 version: 4.13.3\n"
     ]
    }
   ],
   "source": [
    "# requests, bs4 버전 확인하기\n",
    "print(f'requests version: {requests.__version__}')\n",
    "print(f'beautifulSoup4 version: {bs4.__version__}')"
   ]
  },
  {
   "cell_type": "code",
   "execution_count": 6,
   "id": "4c7a3bbd",
   "metadata": {},
   "outputs": [],
   "source": [
    "import dotenv\n",
    "import os"
   ]
  },
  {
   "cell_type": "markdown",
   "id": "ccb91def-cde3-4aeb-b0e5-2e7233500333",
   "metadata": {},
   "source": [
    "### 1. 뉴스 제목 추출하기"
   ]
  },
  {
   "cell_type": "code",
   "execution_count": null,
   "id": "94c12fd6",
   "metadata": {},
   "outputs": [
    {
     "name": "stdout",
     "output_type": "stream",
     "text": [
      "요청 URL : https://news.naver.com/section/105\n",
      "응답 : <Response [200]>\n",
      "<class 'requests.models.Response'>\n",
      "응답 코드 : 200\n",
      "\n",
      "84\n",
      "https://n.news.naver.com/mnews/article/015/0005116490\n",
      "\"영락없는 자녀 목소린데\"…AI 보이스피싱, AI로 방지\n",
      "\n",
      "https://n.news.naver.com/mnews/article/comment/015/0005116490\n",
      "https://n.news.naver.com/mnews/article/421/0008180537\n",
      "뤼튼 \"무료전략으로 생활형 AI 시대 열 것…올해 천만 MAU 목표\"\n",
      "\n",
      "https://n.news.naver.com/mnews/article/comment/421/0008180537\n",
      "https://n.news.naver.com/mnews/article/021/0002701759\n",
      "스미싱 등 악성 문자, 발송단계부터 차단한다\n",
      "\n",
      "https://n.news.naver.com/mnews/article/comment/021/0002701759\n",
      "https://n.news.naver.com/mnews/article/277/0005574328\n",
      "우주청, 우주 국제협력 행보 가속화\n",
      "\n",
      "https://n.news.naver.com/mnews/article/comment/277/0005574328\n",
      "https://n.news.naver.com/mnews/article/018/0005982223\n",
      "카카오의 소상공인 판로 제공 실험 결실…착한 소비 1조원 돌파\n",
      "\n",
      "https://n.news.naver.com/mnews/article/comment/018/0005982223\n",
      "https://n.news.naver.com/mnews/article/008/0005177469\n",
      "항생제도 안 듣는 슈퍼박테리아, 금 나노입자로 사멸한다\n",
      "\n",
      "https://n.news.naver.com/mnews/article/comment/008/0005177469\n",
      "https://n.news.naver.com/mnews/article/092/0002369827\n",
      "리플 \"전 세계 금융 시장, 실물자산 토큰화 중심으로 근본 변화\"\n",
      "\n",
      "https://n.news.naver.com/mnews/article/comment/092/0002369827\n",
      "https://n.news.naver.com/mnews/article/421/0008180569\n",
      "에이비엘바이오, '4조 기술이전' 후 첫 공식석상…로드맵 밝힌다\n",
      "\n",
      "https://n.news.naver.com/mnews/article/comment/421/0008180569\n",
      "https://n.news.naver.com/mnews/article/421/0008180565\n",
      "\"의료계 제안 논의하자\"…의협, 정부·국회에 '대화의 장' 요구\n",
      "\n",
      "https://n.news.naver.com/mnews/article/comment/421/0008180565\n",
      "https://n.news.naver.com/mnews/article/421/0008180537\n",
      "뤼튼 \"무료전략으로 생활형 AI 시대 열 것…올해 천만 MAU 목표\"\n",
      "\n",
      "https://n.news.naver.com/mnews/article/comment/421/0008180537\n",
      "https://n.news.naver.com/mnews/article/032/0003361993\n",
      "첫 한국계 ‘NASA 우주비행사’ 조니 김, 마침내 지구 궤도로 떠났다\n",
      "\n",
      "https://n.news.naver.com/mnews/article/comment/032/0003361993\n",
      "https://n.news.naver.com/mnews/article/015/0005116525\n",
      "질병청, 세계 첫 단백질 재조합 탄저백신 '배리트락스' 상용화\n",
      "\n",
      "https://n.news.naver.com/mnews/article/comment/015/0005116525\n",
      "https://n.news.naver.com/mnews/article/092/0002369818\n",
      "트럼프 관세, 세계경제 큰 타격…美中 충돌로 더 증폭\n",
      "\n",
      "https://n.news.naver.com/mnews/article/comment/092/0002369818\n",
      "https://n.news.naver.com/mnews/article/366/0001067643\n",
      "[100세 과학] 노년 건강 유지엔 채식보다 육식\n",
      "\n",
      "https://n.news.naver.com/mnews/article/comment/366/0001067643\n",
      "https://n.news.naver.com/mnews/article/018/0005982461\n",
      "[사고]스테이블코인 vs CBDC…디지털금융 대세는 어디로?\n",
      "\n",
      "https://n.news.naver.com/mnews/article/comment/018/0005982461\n",
      "https://n.news.naver.com/mnews/article/021/0002701758\n",
      "폐암 면역치료 새 전략 찾았다…면역항암 막는 핵심인자 최초로 발견\n",
      "\n",
      "https://n.news.naver.com/mnews/article/comment/021/0002701758\n",
      "https://n.news.naver.com/mnews/article/092/0002369817\n",
      "\"갤럭시S26 울트라, 카메라 사양 등 전작과 큰 변화 없다\"\n",
      "\n",
      "https://n.news.naver.com/mnews/article/comment/092/0002369817\n",
      "https://n.news.naver.com/mnews/article/092/0002369816\n",
      "구영배 \"위시 살려야\" 주장에 피해자들 분통…\"차라리 처벌 받아라\"\n",
      "\n",
      "https://n.news.naver.com/mnews/article/comment/092/0002369816\n",
      "https://n.news.naver.com/mnews/article/092/0002369815\n",
      "관세 폭탄에 스마트폰 공장 美로 옮긴다?…\"가능성 희박\"\n",
      "\n",
      "https://n.news.naver.com/mnews/article/comment/092/0002369815\n",
      "https://n.news.naver.com/mnews/article/015/0005116508\n",
      "전국에 딱 500대만 풀린다…'한정판 갤럭시S25'의 정체\n",
      "\n",
      "https://n.news.naver.com/mnews/article/comment/015/0005116508\n",
      "https://n.news.naver.com/mnews/article/030/0003301337\n",
      "[6G 코리아] ④ 이통3사, AI-RAN 시장 개척 주도\n",
      "\n",
      "https://n.news.naver.com/mnews/article/comment/030/0003301337\n",
      "https://n.news.naver.com/mnews/article/015/0005116502\n",
      "한바이오 \"모유두세포로 탈모 정복하겠다\"\n",
      "\n",
      "https://n.news.naver.com/mnews/article/comment/015/0005116502\n",
      "https://n.news.naver.com/mnews/article/293/0000065879\n",
      "뤼튼, 감정 교류도 하는 'AI 비서' 낸다\n",
      "\n",
      "https://n.news.naver.com/mnews/article/comment/293/0000065879\n",
      "https://n.news.naver.com/mnews/article/092/0002369813\n",
      "온라인서 예금토큰 결제 지연…9일부터 순차적으로 진행\n",
      "\n",
      "https://n.news.naver.com/mnews/article/comment/092/0002369813\n",
      "https://n.news.naver.com/mnews/article/030/0003301326\n",
      "법인 가상자산 투자 허용, 금융 생태계 지각변동 예고...우덕수 블록데몬 아시아 대표 “기관 대상 상품 본격화”\n",
      "\n",
      "https://n.news.naver.com/mnews/article/comment/030/0003301326\n",
      "https://n.news.naver.com/mnews/article/366/0001067631\n",
      "美와 AI 격차 좁힌 中…한국은 AI 투자 줄어\n",
      "\n",
      "https://n.news.naver.com/mnews/article/comment/366/0001067631\n",
      "https://n.news.naver.com/mnews/article/030/0003301320\n",
      "LS전선, 대한전선 상대 특허 최종 승소…양측 상고 포기\n",
      "\n",
      "https://n.news.naver.com/mnews/article/comment/030/0003301320\n",
      "https://n.news.naver.com/mnews/article/023/0003898272\n",
      "사람 태워 산속 누빈다... 늑대 닮은 日 4족보행 로봇 공개\n",
      "\n",
      "https://n.news.naver.com/mnews/article/comment/023/0003898272\n",
      "https://n.news.naver.com/mnews/article/030/0003301315\n",
      "삼성전자 시장예상 뛰어넘은 1분기 실적...매출 79조·영업익 6.6조\n",
      "\n",
      "https://n.news.naver.com/mnews/article/comment/030/0003301315\n",
      "https://n.news.naver.com/mnews/article/421/0008180285\n",
      "'2인 체제' 방통위 논란 여전…이대로면 '줄소송' 가능성\n",
      "\n",
      "https://n.news.naver.com/mnews/article/comment/421/0008180285\n",
      "https://n.news.naver.com/mnews/article/015/0005116490\n",
      "\"영락없는 자녀 목소린데\"…AI 보이스피싱, AI로 방지\n",
      "\n",
      "https://n.news.naver.com/mnews/article/comment/015/0005116490\n",
      "https://n.news.naver.com/mnews/article/138/0002194264\n",
      "DDR5 가격 불 붙인 中 CXMT…삼성⋅SK '반사이익' 장기화 기대 [소부장반차장]\n",
      "\n",
      "https://n.news.naver.com/mnews/article/comment/138/0002194264\n",
      "https://n.news.naver.com/mnews/article/029/0002946687\n",
      "100년간 해킹 불가… 팬시, 세계 최초 `양자암호내성 블록체인 지갑` 승인\n",
      "\n",
      "https://n.news.naver.com/mnews/article/comment/029/0002946687\n",
      "https://n.news.naver.com/mnews/article/030/0003301302\n",
      "중소 알뜰폰 '저가형'에 대기업 알뜰폰, '이색 요금제'\n",
      "\n",
      "https://n.news.naver.com/mnews/article/comment/030/0003301302\n",
      "https://n.news.naver.com/mnews/article/421/0008180265\n",
      "질병청, 국내 기술로 최초 단백질 탄저백신 개발…'26년 결실'(종합)\n",
      "\n",
      "https://n.news.naver.com/mnews/article/comment/421/0008180265\n",
      "https://n.news.naver.com/mnews/article/030/0003301301\n",
      "[IT구루 간담회] AI 에이전트 등 응용분야 육성 전략, 인재양성 패러다임 전환해야\n",
      "\n",
      "https://n.news.naver.com/mnews/article/comment/030/0003301301\n",
      "https://n.news.naver.com/mnews/article/277/0005574594\n",
      "\"가구 배치, 옷 코디도 도와준다\"…제미나이 라이브 갤S25 적용\n",
      "\n",
      "https://n.news.naver.com/mnews/article/comment/277/0005574594\n",
      "https://n.news.naver.com/mnews/article/030/0003301290\n",
      "매그나칩, DDI 사업 청산…임직원 해고 통보\n",
      "\n",
      "https://n.news.naver.com/mnews/article/comment/030/0003301290\n",
      "https://n.news.naver.com/mnews/article/009/0005472676\n",
      "상금 30억원 내건 슈퍼센트, ‘제4회 슈퍼센트 게임 챌린지’ 개최\n",
      "\n",
      "https://n.news.naver.com/mnews/article/comment/009/0005472676\n",
      "https://n.news.naver.com/mnews/article/584/0000031781\n",
      "항생제 내성 슈퍼박테리아, 나노입자 결합시켜 열로 제거한다\n",
      "\n",
      "https://n.news.naver.com/mnews/article/comment/584/0000031781\n",
      "https://n.news.naver.com/mnews/article/366/0001067619\n",
      "MS가 주목한 韓 스타트업 뤼튼 “전 국민 맞춤형 AI 시대 만든다”\n",
      "\n",
      "https://n.news.naver.com/mnews/article/comment/366/0001067619\n",
      "https://n.news.naver.com/mnews/article/008/0005177469\n",
      "항생제도 안 듣는 슈퍼박테리아, 금 나노입자로 사멸한다\n",
      "\n",
      "https://n.news.naver.com/mnews/article/comment/008/0005177469\n"
     ]
    }
   ],
   "source": [
    "dotenv.load_dotenv()\n",
    "\n",
    "# IT/과학 뉴스 \n",
    "req_param = {\n",
    "    'sid': 105\n",
    "}\n",
    "# \n",
    "url = f'https://news.naver.com/section/{req_param[\"sid\"]}'\n",
    "print(f'요청 URL : {url}')\n",
    "\n",
    "# 요청 헤더 설정 : 브라우저 정보\n",
    "req_header = {\n",
    "    'User-Agent': os.getenv('USER_AGENT')\n",
    "}\n",
    "\n",
    "# requests 의 get() 함수 호출하기 \n",
    "r = requests.get(url, headers=req_header)\n",
    "print(f'응답 : {r}')\n",
    "print(type(r))\n",
    "print(f'응답 코드 : {r.status_code}', end='\\n\\n')\n",
    "\n",
    "\n",
    "# 응답(response)이 OK 이면\n",
    "if r.ok:\n",
    "    # 응답 (response)에서 text 추출\n",
    "    r_text = r.text\n",
    "    # BeautifulSoup 객체 생성 \n",
    "    soup = BeautifulSoup(r_text, 'html.parser') \n",
    "\n",
    "    # CSS 선택자\n",
    "    # print(soup.prettify())\n",
    "    # print(soup.select(\"div.sa_text a[href*='mnews/article']\"))\n",
    "\n",
    "    sa_result = soup.select(\"div.sa_text a[href*='mnews/article']\")\n",
    "\n",
    "     # <a> 태그 리스트 순회하기\n",
    "    for i in sa_result:\n",
    "        print(i.get('href'), i.get_text(), sep='')\n",
    "\n",
    "# 응답(response)이 Error 이면 status code 출력 \n",
    "else:\n",
    "    print(f'Error code : {r.status_code}')\n",
    "\n"
   ]
  },
  {
   "cell_type": "markdown",
   "id": "45640860-a449-4285-90d7-5f300292b461",
   "metadata": {},
   "source": [
    "### 1.1 뉴스제목 추출하는 함수 선언하기"
   ]
  },
  {
   "cell_type": "code",
   "execution_count": 8,
   "id": "9f2e4ef8",
   "metadata": {},
   "outputs": [],
   "source": [
    "import requests\n",
    "from bs4 import BeautifulSoup\n",
    "\n",
    "section_dict = {100:'정치',101:'경제',102:'사회',103:'생활/문화',104:'세계',105:'IT/과학'}\n",
    "\n",
    "def print_news(sid, section):  #print_new(103,'생활/문화') \n",
    "    pass"
   ]
  },
  {
   "cell_type": "code",
   "execution_count": 9,
   "id": "858952c6",
   "metadata": {},
   "outputs": [],
   "source": [
    "print_news(103,section_dict[103])"
   ]
  },
  {
   "cell_type": "markdown",
   "id": "323196dc",
   "metadata": {},
   "source": [
    "### 2. Image 다운로드\n",
    "* referer 요청 헤더를 반드시 설정해야 한다."
   ]
  },
  {
   "cell_type": "code",
   "execution_count": 10,
   "id": "c72d6cb1",
   "metadata": {},
   "outputs": [
    {
     "name": "stdout",
     "output_type": "stream",
     "text": [
      "Error :  403\n",
      "Error :  403\n",
      "Error :  403\n"
     ]
    }
   ],
   "source": [
    "import requests\n",
    "import os\n",
    "\n",
    "req_header = {\n",
    "    'referer':''\n",
    "}\n",
    "\n",
    "img_urls = [\n",
    "    'https://image-comic.pstatic.net/webtoon/798173/5/20220804112251_d97bd1e1b38f0cd022e4e3639d2926b3_IMAG01_1.jpg',\n",
    "    'https://image-comic.pstatic.net/webtoon/798173/5/20220804112251_d97bd1e1b38f0cd022e4e3639d2926b3_IMAG01_2.jpg',\n",
    "    'https://image-comic.pstatic.net/webtoon/798173/5/20220804112251_d97bd1e1b38f0cd022e4e3639d2926b3_IMAG01_3.jpg'\n",
    "]\n",
    "\n",
    "for img_url in img_urls:\n",
    "    # requests 의 get(url, headers) 함수 호출하기 \n",
    "    r = requests.get(img_url, headers=req_header)\n",
    "    if (r.status_code != 200):\n",
    "        print(\"Error : \", r.status_code)\n",
    "        pass\n",
    "\n",
    "    else:\n",
    "        # binary 응답 데이터 가져오기\n",
    "        img_data = r.content\n",
    "        \n",
    "        # url에서 파일명만 추출하기\n",
    "        \n",
    "        \n",
    "        # binday data를 file에 write하기\n"
   ]
  },
  {
   "cell_type": "markdown",
   "id": "e8b00a04",
   "metadata": {},
   "source": [
    "* 현재 요청된 페이지의 image 모두 다운로드 해보기"
   ]
  },
  {
   "cell_type": "code",
   "execution_count": null,
   "id": "b30f7bf5",
   "metadata": {},
   "outputs": [],
   "source": []
  },
  {
   "cell_type": "markdown",
   "id": "2ac9f5f9",
   "metadata": {},
   "source": [
    "### 3. 파일 업로드 하기\n",
    "* http://httpbin.org/post 업로드 요청을 할 수 있는 url"
   ]
  },
  {
   "cell_type": "code",
   "execution_count": 11,
   "id": "04da4790",
   "metadata": {},
   "outputs": [],
   "source": [
    "import requests\n",
    "\n",
    "upload_files = {\n",
    "    \n",
    "}\n",
    "#print(upload_files)\n",
    "\n",
    "url = 'http://httpbin.org/post'\n",
    "# file 업로드 하려면 requests의 post 함수에 files 속성을 사용합니다.\n",
    "\n"
   ]
  },
  {
   "cell_type": "markdown",
   "id": "7ad65f12",
   "metadata": {},
   "source": [
    "### 4. 캡챠(이미지) API 호출하기\n",
    "* urllib 사용\n",
    "* 1. 캡차 키 발급 요청\n",
    "  2. 캡차 이미지 요청\n",
    "  3. 사용자 입력값 검증 요청"
   ]
  },
  {
   "cell_type": "code",
   "execution_count": 12,
   "id": "bc4ae360-e772-4873-8642-d3494edd34e1",
   "metadata": {},
   "outputs": [],
   "source": [
    "# 캡차 키 발급 요청\n"
   ]
  },
  {
   "cell_type": "code",
   "execution_count": 13,
   "id": "7b95b6a0-c218-4792-82a6-da4d80872071",
   "metadata": {},
   "outputs": [],
   "source": [
    "# 캡차 이미지 요청\n"
   ]
  },
  {
   "cell_type": "code",
   "execution_count": 14,
   "id": "a79076af-2cd0-4de2-8301-316b9130c55e",
   "metadata": {},
   "outputs": [],
   "source": [
    "#  사용자 입력값 검증 요청\n",
    "\n"
   ]
  },
  {
   "cell_type": "markdown",
   "id": "b7d984a6",
   "metadata": {},
   "source": [
    "* requests를 사용하는 코드로 변경하기\n",
    "* [requests docs](https://requests.readthedocs.io/en/latest/user/quickstart/)"
   ]
  },
  {
   "cell_type": "code",
   "execution_count": 15,
   "id": "727b427b",
   "metadata": {
    "scrolled": true
   },
   "outputs": [],
   "source": [
    "# 사용자 입력값 검증 요청\n",
    "\n"
   ]
  },
  {
   "cell_type": "markdown",
   "id": "d5e1179a",
   "metadata": {},
   "source": [
    "### 5. 블로그 검색하기"
   ]
  },
  {
   "cell_type": "code",
   "execution_count": 16,
   "id": "877d0c7f",
   "metadata": {},
   "outputs": [],
   "source": [
    "import requests\n",
    "import pprint\n",
    "\n",
    "headers = {\n",
    "    'X-Naver-Client-Id': '',\n",
    "    'X-Naver-Client-Secret': '',\n",
    "}\n",
    "\n",
    "payload = {\n",
    "    'query': '파이썬',\n",
    "    'display': 100,\n",
    "    'sort': 'sim'\n",
    "}\n",
    "\n",
    "url = 'https://openapi.naver.com/v1/search/blog.json'\n",
    "\n",
    "\n",
    "# requests get(url, params, headers) 요청 \n",
    "\n",
    "# json() 함수로 응답 결과 가져오오기\n",
    "# 'title' , 'bloggername' , 'description' , 'bloggerlink' , 'link'\n",
    "\n",
    "# 'data/nhnblog.txt' 파일 생성하기\n"
   ]
  }
 ],
 "metadata": {
  "kernelspec": {
   "display_name": "test",
   "language": "python",
   "name": "python3"
  },
  "language_info": {
   "codemirror_mode": {
    "name": "ipython",
    "version": 3
   },
   "file_extension": ".py",
   "mimetype": "text/x-python",
   "name": "python",
   "nbconvert_exporter": "python",
   "pygments_lexer": "ipython3",
   "version": "3.9.21"
  }
 },
 "nbformat": 4,
 "nbformat_minor": 5
}
