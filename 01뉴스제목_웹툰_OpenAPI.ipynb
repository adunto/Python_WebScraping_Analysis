{
 "cells": [
  {
   "cell_type": "markdown",
   "id": "eb0bfa44",
   "metadata": {},
   "source": [
    "## 1. 뉴스제목 가져오기\n",
    "* user-agent 요청헤더를 반드시 설정해야 한다."
   ]
  },
  {
   "cell_type": "code",
   "execution_count": 18,
   "id": "f0d27781",
   "metadata": {},
   "outputs": [
    {
     "name": "stdout",
     "output_type": "stream",
     "text": [
      "Name: requestsNote: you may need to restart the kernel to use updated packages.\n",
      "\n",
      "Version: 2.32.3\n",
      "Summary: Python HTTP for Humans.\n",
      "Home-page: https://requests.readthedocs.io\n",
      "Author: Kenneth Reitz\n",
      "Author-email: me@kennethreitz.org\n",
      "License: Apache-2.0\n",
      "Location: d:\\anaconda3\\envs\\test\\lib\\site-packages\n",
      "Requires: certifi, charset-normalizer, idna, urllib3\n",
      "Required-by: huggingface-hub, jupyterlab_server, PyGithub, streamlit\n"
     ]
    }
   ],
   "source": [
    "# requests 라이브러리 설치여부 확인\n",
    "%pip show requests"
   ]
  },
  {
   "cell_type": "code",
   "execution_count": 19,
   "id": "f7798ea8",
   "metadata": {},
   "outputs": [
    {
     "name": "stdout",
     "output_type": "stream",
     "text": [
      "Name: beautifulsoup4\n",
      "Version: 4.13.3\n",
      "Summary: Screen-scraping library\n",
      "Home-page: https://www.crummy.com/software/BeautifulSoup/bs4/\n",
      "Author: \n",
      "Author-email: Leonard Richardson <leonardr@segfault.org>\n",
      "License: MIT License\n",
      "Location: d:\\anaconda3\\envs\\test\\lib\\site-packages\n",
      "Requires: soupsieve, typing-extensions\n",
      "Required-by: nbconvert\n",
      "Note: you may need to restart the kernel to use updated packages.\n"
     ]
    }
   ],
   "source": [
    "# beautifulsoup4 라이브러리 설치여부 확인\n",
    "%pip show beautifulsoup4"
   ]
  },
  {
   "cell_type": "code",
   "execution_count": 20,
   "id": "bf80a429",
   "metadata": {},
   "outputs": [],
   "source": [
    "# reqeusts, bs4 import\n",
    "import requests\n",
    "import bs4\n",
    "\n",
    "# BeautifulSoup 클래스 import\n",
    "from bs4 import BeautifulSoup"
   ]
  },
  {
   "cell_type": "code",
   "execution_count": 21,
   "id": "9788d6ac",
   "metadata": {},
   "outputs": [
    {
     "name": "stdout",
     "output_type": "stream",
     "text": [
      "requests version: 2.32.3\n",
      "beautifulSoup4 version: 4.13.3\n"
     ]
    }
   ],
   "source": [
    "# requests, bs4 버전 확인하기\n",
    "print(f\"requests version: {requests.__version__}\")\n",
    "print(f\"beautifulSoup4 version: {bs4.__version__}\")"
   ]
  },
  {
   "cell_type": "code",
   "execution_count": 22,
   "id": "4c7a3bbd",
   "metadata": {},
   "outputs": [],
   "source": [
    "import dotenv\n",
    "import os"
   ]
  },
  {
   "cell_type": "markdown",
   "id": "ccb91def-cde3-4aeb-b0e5-2e7233500333",
   "metadata": {},
   "source": [
    "### 1. 뉴스 제목 추출하기"
   ]
  },
  {
   "cell_type": "code",
   "execution_count": 23,
   "id": "94c12fd6",
   "metadata": {},
   "outputs": [
    {
     "name": "stdout",
     "output_type": "stream",
     "text": [
      "요청 URL : https://news.naver.com/section/105\n",
      "응답 : <Response [200]>\n",
      "<class 'requests.models.Response'>\n",
      "응답 코드 : 200\n",
      "\n",
      "https://n.news.naver.com/mnews/article/018/0005982063\n",
      "“보이스피싱 26건 막았다” SKT, AI 보안기술 ‘IBK기업은행’에 적용\n",
      "\n",
      "https://n.news.naver.com/mnews/article/comment/018/0005982063\n",
      "https://n.news.naver.com/mnews/article/422/0000729036\n",
      "스팸문자, 발송단계에서 차단...내일 '엑스레이 서비스' 시범 도입\n",
      "\n",
      "https://n.news.naver.com/mnews/article/comment/422/0000729036\n",
      "https://n.news.naver.com/mnews/article/030/0003301273\n",
      "뤼튼, 전국민 1인 1AI 시대 연다…무료 넘어 소득까지 창출\n",
      "\n",
      "https://n.news.naver.com/mnews/article/comment/030/0003301273\n",
      "https://n.news.naver.com/mnews/article/011/0004471465\n",
      "미래 대한민국호 달/화성탐사선 주인공에 도전해보세요\n",
      "\n",
      "https://n.news.naver.com/mnews/article/comment/011/0004471465\n",
      "https://n.news.naver.com/mnews/article/030/0003301336\n",
      "카카오메이커스, 누적 거래액 1조 돌파\n",
      "\n",
      "https://n.news.naver.com/mnews/article/comment/030/0003301336\n",
      "https://n.news.naver.com/mnews/article/008/0005177228\n",
      "갤S25 카메라 켜고 \"어떤 옷 어울려?\"…AI가 자동 답한다\n",
      "\n",
      "https://n.news.naver.com/mnews/article/comment/008/0005177228\n",
      "https://n.news.naver.com/mnews/article/029/0002946651\n",
      "슈퍼박테리아 치료 길 열어…특정 병원균만 사멸\n",
      "\n",
      "https://n.news.naver.com/mnews/article/comment/029/0002946651\n",
      "https://n.news.naver.com/mnews/article/016/0002453935\n",
      "“1초 만에 99.5% 정확도로 상품인식” 신세계아이앤씨,  ‘AI 설루션’ 고도화\n",
      "\n",
      "https://n.news.naver.com/mnews/article/comment/016/0002453935\n",
      "https://n.news.naver.com/mnews/article/092/0002369838\n",
      "소액주주 눈높이 맞춘다…한화에어로, 유증 3.6조→2.3조 축소\n",
      "\n",
      "https://n.news.naver.com/mnews/article/comment/092/0002369838\n",
      "https://n.news.naver.com/mnews/article/092/0002369836\n",
      "한화오션, 차세대 드릴십 인도…심해 시추 본격 진출\n",
      "\n",
      "https://n.news.naver.com/mnews/article/comment/092/0002369836\n",
      "https://n.news.naver.com/mnews/article/018/0005982544\n",
      "“보여주면 알아서 설명” 삼성, 갤럭시 S25에 ‘실시간 비주얼 AI’ 도입\n",
      "\n",
      "https://n.news.naver.com/mnews/article/comment/018/0005982544\n",
      "https://n.news.naver.com/mnews/article/008/0005177554\n",
      "\"5G 투자회수도 멀었는데\"…글로벌 통신업계 '6G' 회의론\n",
      "\n",
      "https://n.news.naver.com/mnews/article/comment/008/0005177554\n",
      "https://n.news.naver.com/mnews/article/014/0005332970\n",
      "삼성 1분기 실적 효자는 '갤S25'…2Q '슬림' 판매량 관건\n",
      "\n",
      "https://n.news.naver.com/mnews/article/comment/014/0005332970\n",
      "https://n.news.naver.com/mnews/article/648/0000035139\n",
      "영화 'HER' 속 사만사처럼…뤼튼의 '1인 1AI' 전략\n",
      "\n",
      "https://n.news.naver.com/mnews/article/comment/648/0000035139\n",
      "https://n.news.naver.com/mnews/article/092/0002369831\n",
      "[현장] \"AI, 이제 도구가 아닌 친구\"…뤼튼, '1인 1AI' 시대 연다\n",
      "\n",
      "https://n.news.naver.com/mnews/article/comment/092/0002369831\n",
      "https://n.news.naver.com/mnews/article/092/0002369827\n",
      "리플 \"전 세계 금융 시장, 실물자산 토큰화 중심으로 근본 변화\"\n",
      "\n",
      "https://n.news.naver.com/mnews/article/comment/092/0002369827\n",
      "https://n.news.naver.com/mnews/article/366/0001067652\n",
      "당뇨·비만 치료제가 치매 위험 33~43% 낮춘다\n",
      "\n",
      "https://n.news.naver.com/mnews/article/comment/366/0001067652\n",
      "https://n.news.naver.com/mnews/article/366/0001067651\n",
      "과기정통부·KISA, 스팸문자 사전 차단 '엑스레이 서비스' 시범 도입\n",
      "\n",
      "https://n.news.naver.com/mnews/article/comment/366/0001067651\n",
      "https://n.news.naver.com/mnews/article/421/0008180569\n",
      "에이비엘바이오, '4조 기술이전' 후 첫 공식석상…로드맵 밝힌다\n",
      "\n",
      "https://n.news.naver.com/mnews/article/comment/421/0008180569\n",
      "https://n.news.naver.com/mnews/article/023/0003898288\n",
      "한국계 NASA 우주인 조니 김 태운 러 우주선, ISS로 발사\n",
      "\n",
      "https://n.news.naver.com/mnews/article/comment/023/0003898288\n",
      "https://n.news.naver.com/mnews/article/030/0003301377\n",
      "“韓 AI 선진국 위해 'AI기술'보다 데이터 확보가 필요”\n",
      "\n",
      "https://n.news.naver.com/mnews/article/comment/030/0003301377\n",
      "https://n.news.naver.com/mnews/article/421/0008180565\n",
      "\"의료계 제안 논의하자\"…의협, 정부·국회에 '대화의 장' 요구\n",
      "\n",
      "https://n.news.naver.com/mnews/article/comment/421/0008180565\n",
      "https://n.news.naver.com/mnews/article/014/0005332936\n",
      "질병청-녹십자 개발 '탄저백신' 품목허가 \"백신주권 확립\"\n",
      "\n",
      "https://n.news.naver.com/mnews/article/comment/014/0005332936\n",
      "https://n.news.naver.com/mnews/article/081/0003531724\n",
      "항암제 피하는 암세포 꼼수 발견…악성 폐암도 잡는다\n",
      "\n",
      "https://n.news.naver.com/mnews/article/comment/081/0003531724\n",
      "https://n.news.naver.com/mnews/article/421/0008180537\n",
      "뤼튼 \"무료전략으로 생활형 AI 시대 열 것…올해 천만 MAU 목표\"\n",
      "\n",
      "https://n.news.naver.com/mnews/article/comment/421/0008180537\n",
      "https://n.news.naver.com/mnews/article/032/0003361993\n",
      "첫 한국계 ‘NASA 우주비행사’ 조니 김, 마침내 지구 궤도로 떠났다\n",
      "\n",
      "https://n.news.naver.com/mnews/article/comment/032/0003361993\n",
      "https://n.news.naver.com/mnews/article/015/0005116525\n",
      "질병청, 세계 첫 단백질 재조합 탄저백신 '배리트락스' 상용화\n",
      "\n",
      "https://n.news.naver.com/mnews/article/comment/015/0005116525\n",
      "https://n.news.naver.com/mnews/article/092/0002369818\n",
      "트럼프 관세, 세계경제 큰 타격…美中 충돌로 더 증폭\n",
      "\n",
      "https://n.news.naver.com/mnews/article/comment/092/0002369818\n",
      "https://n.news.naver.com/mnews/article/366/0001067643\n",
      "[100세 과학] 노년 건강 유지엔 채식보다 육식\n",
      "\n",
      "https://n.news.naver.com/mnews/article/comment/366/0001067643\n",
      "https://n.news.naver.com/mnews/article/018/0005982461\n",
      "[사고]스테이블코인 vs CBDC…디지털금융 대세는 어디로?\n",
      "\n",
      "https://n.news.naver.com/mnews/article/comment/018/0005982461\n",
      "https://n.news.naver.com/mnews/article/021/0002701758\n",
      "폐암 면역치료 새 전략 찾았다…면역항암 막는 핵심인자 최초로 발견\n",
      "\n",
      "https://n.news.naver.com/mnews/article/comment/021/0002701758\n",
      "https://n.news.naver.com/mnews/article/092/0002369817\n",
      "\"갤럭시S26 울트라, 카메라 사양 등 전작과 큰 변화 없다\"\n",
      "\n",
      "https://n.news.naver.com/mnews/article/comment/092/0002369817\n",
      "https://n.news.naver.com/mnews/article/092/0002369816\n",
      "구영배 \"위시 살려야\" 주장에 피해자들 분통…\"차라리 처벌 받아라\"\n",
      "\n",
      "https://n.news.naver.com/mnews/article/comment/092/0002369816\n",
      "https://n.news.naver.com/mnews/article/092/0002369815\n",
      "관세 폭탄에 스마트폰 공장 美로 옮긴다?…\"가능성 희박\"\n",
      "\n",
      "https://n.news.naver.com/mnews/article/comment/092/0002369815\n",
      "https://n.news.naver.com/mnews/article/015/0005116508\n",
      "전국에 딱 500대만 풀린다…'한정판 갤럭시S25'의 정체\n",
      "\n",
      "https://n.news.naver.com/mnews/article/comment/015/0005116508\n",
      "https://n.news.naver.com/mnews/article/030/0003301337\n",
      "[6G 코리아] ④ 이통3사, AI-RAN 시장 개척 주도\n",
      "\n",
      "https://n.news.naver.com/mnews/article/comment/030/0003301337\n",
      "https://n.news.naver.com/mnews/article/015/0005116502\n",
      "한바이오 \"모유두세포로 탈모 정복하겠다\"\n",
      "\n",
      "https://n.news.naver.com/mnews/article/comment/015/0005116502\n",
      "https://n.news.naver.com/mnews/article/293/0000065879\n",
      "뤼튼, 감정 교류도 하는 'AI 비서' 낸다\n",
      "\n",
      "https://n.news.naver.com/mnews/article/comment/293/0000065879\n",
      "https://n.news.naver.com/mnews/article/092/0002369813\n",
      "온라인서 예금토큰 결제 지연…9일부터 순차적으로 진행\n",
      "\n",
      "https://n.news.naver.com/mnews/article/comment/092/0002369813\n",
      "https://n.news.naver.com/mnews/article/030/0003301326\n",
      "법인 가상자산 투자 허용, 금융 생태계 지각변동 예고...우덕수 블록데몬 아시아 대표 “기관 대상 상품 본격화”\n",
      "\n",
      "https://n.news.naver.com/mnews/article/comment/030/0003301326\n",
      "https://n.news.naver.com/mnews/article/366/0001067631\n",
      "美와 AI 격차 좁힌 中…한국은 AI 투자 줄어\n",
      "\n",
      "https://n.news.naver.com/mnews/article/comment/366/0001067631\n",
      "https://n.news.naver.com/mnews/article/030/0003301320\n",
      "LS전선, 대한전선 상대 특허 최종 승소…양측 상고 포기\n",
      "\n",
      "https://n.news.naver.com/mnews/article/comment/030/0003301320\n",
      "https://n.news.naver.com/mnews/article/023/0003898272\n",
      "사람 태워 산속 누빈다... 늑대 닮은 日 4족보행 로봇 공개\n",
      "\n",
      "https://n.news.naver.com/mnews/article/comment/023/0003898272\n",
      "https://n.news.naver.com/mnews/article/030/0003301315\n",
      "삼성전자 시장예상 뛰어넘은 1분기 실적...매출 79조·영업익 6.6조\n",
      "\n",
      "https://n.news.naver.com/mnews/article/comment/030/0003301315\n"
     ]
    }
   ],
   "source": [
    "dotenv.load_dotenv()\n",
    "\n",
    "# IT/과학 뉴스\n",
    "req_param = {\"sid\": 105}\n",
    "#\n",
    "url = f'https://news.naver.com/section/{req_param[\"sid\"]}'\n",
    "print(f\"요청 URL : {url}\")\n",
    "\n",
    "# 요청 헤더 설정 : 브라우저 정보\n",
    "req_header = {\"User-Agent\": os.getenv(\"USER_AGENT\")}\n",
    "\n",
    "# requests 의 get() 함수 호출하기\n",
    "r = requests.get(url, headers=req_header)\n",
    "print(f\"응답 : {r}\")\n",
    "print(type(r))\n",
    "print(f\"응답 코드 : {r.status_code}\", end=\"\\n\\n\")\n",
    "\n",
    "\n",
    "# 응답(response)이 OK 이면\n",
    "if r.ok:\n",
    "    # 응답 (response)에서 text 추출\n",
    "    r_text = r.text\n",
    "    # BeautifulSoup 객체 생성\n",
    "    soup = BeautifulSoup(r_text, \"html.parser\")\n",
    "\n",
    "    # CSS 선택자\n",
    "    # print(soup.prettify())\n",
    "    # print(soup.select(\"div.sa_text a[href*='mnews/article']\"))\n",
    "\n",
    "    sa_result = soup.select(\"div.sa_text a[href*='mnews/article']\")\n",
    "\n",
    "    # <a> 태그 리스트 순회하기\n",
    "    for i in sa_result:\n",
    "        print(i.get(\"href\"), i.get_text(), sep=\"\")\n",
    "\n",
    "# 응답(response)이 Error 이면 status code 출력\n",
    "else:\n",
    "    print(f\"Error code : {r.status_code}\")"
   ]
  },
  {
   "cell_type": "markdown",
   "id": "45640860-a449-4285-90d7-5f300292b461",
   "metadata": {},
   "source": [
    "### 1.1 뉴스제목 추출하는 함수 선언하기"
   ]
  },
  {
   "cell_type": "code",
   "execution_count": 33,
   "id": "9f2e4ef8",
   "metadata": {},
   "outputs": [],
   "source": [
    "import requests\n",
    "from bs4 import BeautifulSoup\n",
    "\n",
    "section_dict = {\n",
    "    100: \"정치\",\n",
    "    101: \"경제\",\n",
    "    102: \"사회\",\n",
    "    103: \"생활/문화\",\n",
    "    104: \"세계\",\n",
    "    105: \"IT/과학\",\n",
    "}\n",
    "\n",
    "\n",
    "def print_news(sid):  # print_new(103)\n",
    "    section = section_dict[sid]\n",
    "    url = f\"https://news.naver.com/section/{sid}\"\n",
    "    print(f'=====> {url} {section} 뉴스 <=====')\n",
    "    \n",
    "    # 요청 헤더 설정 : 브라우저 정보\n",
    "    req_header = {\"User-Agent\": os.getenv(\"USER_AGENT\", 'Mozilla/5.0 (Windows NT 10.0; Win64; x64) AppleWebKit/537.36 (KHTML, like Gecko) Chrome/58.0.3029.110 Safari/537.3')}\n",
    "\n",
    "    # requests 의 get() 함수 호출하기\n",
    "    r = requests.get(url, headers=req_header)\n",
    "    print(f\"응답 : {r}\")\n",
    "    print(type(r))\n",
    "    print(f\"응답 코드 : {r.status_code}\", end=\"\\n\\n\")\n",
    "    "
   ]
  },
  {
   "cell_type": "code",
   "execution_count": 34,
   "id": "858952c6",
   "metadata": {},
   "outputs": [
    {
     "name": "stdout",
     "output_type": "stream",
     "text": [
      "=====> https://news.naver.com/section/103 생활/문화 뉴스 <=====\n",
      "응답 : <Response [200]>\n",
      "<class 'requests.models.Response'>\n",
      "응답 코드 : 200\n",
      "\n"
     ]
    }
   ],
   "source": [
    "print_news(103)"
   ]
  },
  {
   "cell_type": "markdown",
   "id": "323196dc",
   "metadata": {},
   "source": [
    "### 2. Image 다운로드\n",
    "* referer 요청 헤더를 반드시 설정해야 한다."
   ]
  },
  {
   "cell_type": "code",
   "execution_count": 26,
   "id": "c72d6cb1",
   "metadata": {},
   "outputs": [
    {
     "name": "stdout",
     "output_type": "stream",
     "text": [
      "Error :  403\n",
      "Error :  403\n",
      "Error :  403\n"
     ]
    }
   ],
   "source": [
    "import requests\n",
    "import os\n",
    "\n",
    "req_header = {\"referer\": \"\"}\n",
    "\n",
    "img_urls = [\n",
    "    \"https://image-comic.pstatic.net/webtoon/798173/5/20220804112251_d97bd1e1b38f0cd022e4e3639d2926b3_IMAG01_1.jpg\",\n",
    "    \"https://image-comic.pstatic.net/webtoon/798173/5/20220804112251_d97bd1e1b38f0cd022e4e3639d2926b3_IMAG01_2.jpg\",\n",
    "    \"https://image-comic.pstatic.net/webtoon/798173/5/20220804112251_d97bd1e1b38f0cd022e4e3639d2926b3_IMAG01_3.jpg\",\n",
    "]\n",
    "\n",
    "for img_url in img_urls:\n",
    "    # requests 의 get(url, headers) 함수 호출하기\n",
    "    r = requests.get(img_url, headers=req_header)\n",
    "    if r.status_code != 200:\n",
    "        print(\"Error : \", r.status_code)\n",
    "        pass\n",
    "\n",
    "    else:\n",
    "        # binary 응답 데이터 가져오기\n",
    "        img_data = r.content\n",
    "\n",
    "        # url에서 파일명만 추출하기\n",
    "\n",
    "        # binday data를 file에 write하기"
   ]
  },
  {
   "cell_type": "markdown",
   "id": "e8b00a04",
   "metadata": {},
   "source": [
    "* 현재 요청된 페이지의 image 모두 다운로드 해보기"
   ]
  },
  {
   "cell_type": "code",
   "execution_count": null,
   "id": "b30f7bf5",
   "metadata": {},
   "outputs": [],
   "source": []
  },
  {
   "cell_type": "markdown",
   "id": "2ac9f5f9",
   "metadata": {},
   "source": [
    "### 3. 파일 업로드 하기\n",
    "* http://httpbin.org/post 업로드 요청을 할 수 있는 url"
   ]
  },
  {
   "cell_type": "code",
   "execution_count": 27,
   "id": "04da4790",
   "metadata": {},
   "outputs": [],
   "source": [
    "import requests\n",
    "\n",
    "upload_files = {}\n",
    "# print(upload_files)\n",
    "\n",
    "url = \"http://httpbin.org/post\"\n",
    "# file 업로드 하려면 requests의 post 함수에 files 속성을 사용합니다."
   ]
  },
  {
   "cell_type": "markdown",
   "id": "7ad65f12",
   "metadata": {},
   "source": [
    "### 4. 캡챠(이미지) API 호출하기\n",
    "* urllib 사용\n",
    "* 1. 캡차 키 발급 요청\n",
    "  2. 캡차 이미지 요청\n",
    "  3. 사용자 입력값 검증 요청"
   ]
  },
  {
   "cell_type": "code",
   "execution_count": 28,
   "id": "bc4ae360-e772-4873-8642-d3494edd34e1",
   "metadata": {},
   "outputs": [],
   "source": [
    "# 캡차 키 발급 요청"
   ]
  },
  {
   "cell_type": "code",
   "execution_count": 29,
   "id": "7b95b6a0-c218-4792-82a6-da4d80872071",
   "metadata": {},
   "outputs": [],
   "source": [
    "# 캡차 이미지 요청"
   ]
  },
  {
   "cell_type": "code",
   "execution_count": 30,
   "id": "a79076af-2cd0-4de2-8301-316b9130c55e",
   "metadata": {},
   "outputs": [],
   "source": [
    "#  사용자 입력값 검증 요청"
   ]
  },
  {
   "cell_type": "markdown",
   "id": "b7d984a6",
   "metadata": {},
   "source": [
    "* requests를 사용하는 코드로 변경하기\n",
    "* [requests docs](https://requests.readthedocs.io/en/latest/user/quickstart/)"
   ]
  },
  {
   "cell_type": "code",
   "execution_count": 31,
   "id": "727b427b",
   "metadata": {
    "scrolled": true
   },
   "outputs": [],
   "source": [
    "# 사용자 입력값 검증 요청"
   ]
  },
  {
   "cell_type": "markdown",
   "id": "d5e1179a",
   "metadata": {},
   "source": [
    "### 5. 블로그 검색하기"
   ]
  },
  {
   "cell_type": "code",
   "execution_count": 32,
   "id": "877d0c7f",
   "metadata": {},
   "outputs": [],
   "source": [
    "import requests\n",
    "import pprint\n",
    "\n",
    "headers = {\n",
    "    \"X-Naver-Client-Id\": \"\",\n",
    "    \"X-Naver-Client-Secret\": \"\",\n",
    "}\n",
    "\n",
    "payload = {\"query\": \"파이썬\", \"display\": 100, \"sort\": \"sim\"}\n",
    "\n",
    "url = \"https://openapi.naver.com/v1/search/blog.json\"\n",
    "\n",
    "\n",
    "# requests get(url, params, headers) 요청\n",
    "\n",
    "# json() 함수로 응답 결과 가져오오기\n",
    "# 'title' , 'bloggername' , 'description' , 'bloggerlink' , 'link'\n",
    "\n",
    "# 'data/nhnblog.txt' 파일 생성하기"
   ]
  }
 ],
 "metadata": {
  "kernelspec": {
   "display_name": "test",
   "language": "python",
   "name": "python3"
  },
  "language_info": {
   "codemirror_mode": {
    "name": "ipython",
    "version": 3
   },
   "file_extension": ".py",
   "mimetype": "text/x-python",
   "name": "python",
   "nbconvert_exporter": "python",
   "pygments_lexer": "ipython3",
   "version": "3.9.21"
  }
 },
 "nbformat": 4,
 "nbformat_minor": 5
}
