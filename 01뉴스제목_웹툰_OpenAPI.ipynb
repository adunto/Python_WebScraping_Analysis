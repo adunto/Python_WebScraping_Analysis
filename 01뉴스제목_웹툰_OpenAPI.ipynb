{
 "cells": [
  {
   "cell_type": "markdown",
   "id": "eb0bfa44",
   "metadata": {},
   "source": [
    "## 1. 뉴스제목 가져오기\n",
    "* user-agent 요청헤더를 반드시 설정해야 한다."
   ]
  },
  {
   "cell_type": "code",
   "execution_count": 29,
   "id": "f0d27781",
   "metadata": {},
   "outputs": [
    {
     "name": "stdout",
     "output_type": "stream",
     "text": [
      "Name: requests\n",
      "Version: 2.32.3\n",
      "Summary: Python HTTP for Humans.\n",
      "Home-page: https://requests.readthedocs.io\n",
      "Author: Kenneth Reitz\n",
      "Author-email: me@kennethreitz.org\n",
      "License: Apache-2.0\n",
      "Location: d:\\anaconda3\\envs\\test\\lib\\site-packages\n",
      "Requires: certifi, charset-normalizer, idna, urllib3\n",
      "Required-by: huggingface-hub, jupyterlab_server, PyGithub, streamlit\n",
      "Note: you may need to restart the kernel to use updated packages.\n"
     ]
    }
   ],
   "source": [
    "# requests 라이브러리 설치여부 확인\n",
    "%pip show requests"
   ]
  },
  {
   "cell_type": "code",
   "execution_count": 30,
   "id": "f7798ea8",
   "metadata": {},
   "outputs": [
    {
     "name": "stdout",
     "output_type": "stream",
     "text": [
      "Name: beautifulsoup4Note: you may need to restart the kernel to use updated packages.\n",
      "\n",
      "Version: 4.13.3\n",
      "Summary: Screen-scraping library\n",
      "Home-page: https://www.crummy.com/software/BeautifulSoup/bs4/\n",
      "Author: \n",
      "Author-email: Leonard Richardson <leonardr@segfault.org>\n",
      "License: MIT License\n",
      "Location: d:\\anaconda3\\envs\\test\\lib\\site-packages\n",
      "Requires: soupsieve, typing-extensions\n",
      "Required-by: nbconvert\n"
     ]
    }
   ],
   "source": [
    "# beautifulsoup4 라이브러리 설치여부 확인\n",
    "%pip show beautifulsoup4"
   ]
  },
  {
   "cell_type": "code",
   "execution_count": 43,
   "id": "bf80a429",
   "metadata": {},
   "outputs": [],
   "source": [
    "# reqeusts, bs4 import\n",
    "import requests\n",
    "import bs4\n",
    "# BeautifulSoup 클래스 import\n",
    "from bs4 import BeautifulSoup"
   ]
  },
  {
   "cell_type": "code",
   "execution_count": 46,
   "id": "9788d6ac",
   "metadata": {},
   "outputs": [
    {
     "name": "stdout",
     "output_type": "stream",
     "text": [
      "requests version: 2.32.3\n",
      "beautifulSoup4 version: 4.13.3\n"
     ]
    }
   ],
   "source": [
    "# requests, bs4 버전 확인하기\n",
    "print(f'requests version: {requests.__version__}')\n",
    "print(f'beautifulSoup4 version: {bs4.__version__}')"
   ]
  },
  {
   "cell_type": "code",
   "execution_count": 51,
   "id": "4c7a3bbd",
   "metadata": {},
   "outputs": [],
   "source": [
    "import dotenv\n",
    "import os"
   ]
  },
  {
   "cell_type": "markdown",
   "id": "ccb91def-cde3-4aeb-b0e5-2e7233500333",
   "metadata": {},
   "source": [
    "### 1. 뉴스 제목 추출하기"
   ]
  },
  {
   "cell_type": "code",
   "execution_count": 70,
   "id": "94c12fd6",
   "metadata": {},
   "outputs": [
    {
     "name": "stdout",
     "output_type": "stream",
     "text": [
      "요청 URL : https://news.naver.com/section/105\n",
      "응답 : <Response [200]>\n",
      "<class 'requests.models.Response'>\n",
      "응답 코드 : 200\n",
      "\n",
      "https://n.news.naver.com/mnews/article/011/0004471411\n",
      "우주항공청, 우주베키스탄 등과 우주항공 협력 맞손\n",
      "\n",
      "https://n.news.naver.com/mnews/article/comment/011/0004471411\n",
      "https://n.news.naver.com/mnews/article/009/0005472571\n",
      "위메이드, ‘위퍼블릭’ 통해 영남 산불피해 복구 성금 1억2천만원 기부\n",
      "\n",
      "https://n.news.naver.com/mnews/article/comment/009/0005472571\n",
      "https://n.news.naver.com/mnews/article/277/0005574299\n",
      "카카오가 추구하는 '착한 소비'…9년만에 누적 거래 1조원\n",
      "\n",
      "https://n.news.naver.com/mnews/article/comment/277/0005574299\n",
      "https://n.news.naver.com/mnews/article/022/0004025865\n",
      "“엄마, 나야”…그 전화를 AI가 막았다\n",
      "\n",
      "https://n.news.naver.com/mnews/article/comment/022/0004025865\n",
      "https://n.news.naver.com/mnews/article/015/0005116019\n",
      "뤼튼·시나몬·무빈·스튜디오랩…AI 스타트업에 자금 몰린다\n",
      "\n",
      "https://n.news.naver.com/mnews/article/comment/015/0005116019\n",
      "https://n.news.naver.com/mnews/article/014/0005332684\n",
      "네이버 드라마톡 말고 카카오엔터 베리즈서 수다 떤다?\n",
      "\n",
      "https://n.news.naver.com/mnews/article/comment/014/0005332684\n",
      "https://n.news.naver.com/mnews/article/001/0015317061\n",
      "스팸문자 사전 차단 '엑스레이 서비스' 9일 시범 도입\n",
      "\n",
      "https://n.news.naver.com/mnews/article/comment/001/0015317061\n",
      "https://n.news.naver.com/mnews/article/008/0005177469\n",
      "항생제도 안 듣는 슈퍼박테리아, 금 나노입자로 사멸한다\n",
      "\n",
      "https://n.news.naver.com/mnews/article/comment/008/0005177469\n",
      "https://n.news.naver.com/mnews/article/092/0002369815\n",
      "관세 폭탄에 스마트폰 공장 美로 옮긴다?…\"가능성 희박\"\n",
      "\n",
      "https://n.news.naver.com/mnews/article/comment/092/0002369815\n",
      "https://n.news.naver.com/mnews/article/030/0003301337\n",
      "[6G 코리아] ④ 이통3사, AI-RAN 시장 개척 주도\n",
      "\n",
      "https://n.news.naver.com/mnews/article/comment/030/0003301337\n",
      "https://n.news.naver.com/mnews/article/293/0000065879\n",
      "뤼튼, 감정 교류도 하는 'AI 비서' 낸다\n",
      "\n",
      "https://n.news.naver.com/mnews/article/comment/293/0000065879\n",
      "https://n.news.naver.com/mnews/article/092/0002369813\n",
      "온라인서 예금토큰 결제 지연…9일부터 순차적으로 진행\n",
      "\n",
      "https://n.news.naver.com/mnews/article/comment/092/0002369813\n",
      "https://n.news.naver.com/mnews/article/030/0003301326\n",
      "법인 가상자산 투자 허용, 금융 생태계 지각변동 예고...우덕수 블록데몬 아시아 대표 “기관 대상 상품 본격화”\n",
      "\n",
      "https://n.news.naver.com/mnews/article/comment/030/0003301326\n",
      "https://n.news.naver.com/mnews/article/030/0003301320\n",
      "LS전선, 대한전선 상대 특허 최종 승소…양측 상고 포기\n",
      "\n",
      "https://n.news.naver.com/mnews/article/comment/030/0003301320\n",
      "https://n.news.naver.com/mnews/article/023/0003898272\n",
      "사람 태워 산속 누빈다... 늑대 닮은 日 4족보행 로봇 공개\n",
      "\n",
      "https://n.news.naver.com/mnews/article/comment/023/0003898272\n",
      "https://n.news.naver.com/mnews/article/030/0003301315\n",
      "삼성전자 시장예상 뛰어넘은 1분기 실적...매출 79조·영업익 6.6조\n",
      "\n",
      "https://n.news.naver.com/mnews/article/comment/030/0003301315\n",
      "https://n.news.naver.com/mnews/article/421/0008180285\n",
      "'2인 체제' 방통위 논란 여전…이대로면 '줄소송' 가능성\n",
      "\n",
      "https://n.news.naver.com/mnews/article/comment/421/0008180285\n",
      "https://n.news.naver.com/mnews/article/015/0005116490\n",
      "\"영락없는 자녀 목소린데\"…AI 보이스피싱, AI로 방지\n",
      "\n",
      "https://n.news.naver.com/mnews/article/comment/015/0005116490\n",
      "https://n.news.naver.com/mnews/article/138/0002194264\n",
      "DDR5 가격 불 붙인 中 CXMT…삼성⋅SK '반사이익' 장기화 기대 [소부장반차장]\n",
      "\n",
      "https://n.news.naver.com/mnews/article/comment/138/0002194264\n",
      "https://n.news.naver.com/mnews/article/029/0002946687\n",
      "100년간 해킹 불가… 팬시, 세계 최초 `양자암호내성 블록체인 지갑` 승인\n",
      "\n",
      "https://n.news.naver.com/mnews/article/comment/029/0002946687\n",
      "https://n.news.naver.com/mnews/article/030/0003301302\n",
      "중소 알뜰폰 '저가형'에 대기업 알뜰폰, '이색 요금제'\n",
      "\n",
      "https://n.news.naver.com/mnews/article/comment/030/0003301302\n",
      "https://n.news.naver.com/mnews/article/421/0008180265\n",
      "질병청, 국내 기술로 최초 단백질 탄저백신 개발…'26년 결실'(종합)\n",
      "\n",
      "https://n.news.naver.com/mnews/article/comment/421/0008180265\n",
      "https://n.news.naver.com/mnews/article/030/0003301301\n",
      "[IT구루 간담회] AI 에이전트 등 응용분야 육성 전략, 인재양성 패러다임 전환해야\n",
      "\n",
      "https://n.news.naver.com/mnews/article/comment/030/0003301301\n",
      "https://n.news.naver.com/mnews/article/277/0005574594\n",
      "\"가구 배치, 옷 코디도 도와준다\"…제미나이 라이브 갤S25 적용\n",
      "\n",
      "https://n.news.naver.com/mnews/article/comment/277/0005574594\n",
      "https://n.news.naver.com/mnews/article/030/0003301290\n",
      "매그나칩, DDI 사업 청산…임직원 해고 통보\n",
      "\n",
      "https://n.news.naver.com/mnews/article/comment/030/0003301290\n",
      "https://n.news.naver.com/mnews/article/584/0000031781\n",
      "항생제 내성 슈퍼박테리아, 나노입자 결합시켜 열로 제거한다\n",
      "\n",
      "https://n.news.naver.com/mnews/article/comment/584/0000031781\n",
      "https://n.news.naver.com/mnews/article/366/0001067619\n",
      "MS가 주목한 韓 스타트업 뤼튼 “전 국민 맞춤형 AI 시대 만든다”\n",
      "\n",
      "https://n.news.naver.com/mnews/article/comment/366/0001067619\n",
      "https://n.news.naver.com/mnews/article/008/0005177469\n",
      "항생제도 안 듣는 슈퍼박테리아, 금 나노입자로 사멸한다\n",
      "\n",
      "https://n.news.naver.com/mnews/article/comment/008/0005177469\n",
      "https://n.news.naver.com/mnews/article/014/0005332861\n",
      "'생활형AI'로 진화...뤼튼 \"1인 1AI 시대 열겠다\"\n",
      "\n",
      "https://n.news.naver.com/mnews/article/comment/014/0005332861\n",
      "https://n.news.naver.com/mnews/article/018/0005982411\n",
      "디앤디파마텍 美 자회사, AI 기반 단일세포 유전자 분석 플랫폼 출시\n",
      "\n",
      "https://n.news.naver.com/mnews/article/comment/018/0005982411\n",
      "https://n.news.naver.com/mnews/article/092/0002369806\n",
      "[리뷰] 휴대성·성능 균형 찾은 가벼운 미러리스 카메라 '니콘 Z50 Ⅱ'\n",
      "\n",
      "https://n.news.naver.com/mnews/article/comment/092/0002369806\n",
      "https://n.news.naver.com/mnews/article/092/0002369805\n",
      "\"내 갤럭시폰 언제 원UI 7 업데이트?\"...삼성, 업데이트 일정 공개\n",
      "\n",
      "https://n.news.naver.com/mnews/article/comment/092/0002369805\n",
      "https://n.news.naver.com/mnews/article/138/0002194262\n",
      "\"국민 1명당 1 AI 보급\"…뤼튼, 4월 말 AI 서포터·재테크 서비스\n",
      "\n",
      "https://n.news.naver.com/mnews/article/comment/138/0002194262\n",
      "https://n.news.naver.com/mnews/article/092/0002369804\n",
      "위메이드 위믹스, 韓 블록체인 산업에 미친 영향은\n",
      "\n",
      "https://n.news.naver.com/mnews/article/comment/092/0002369804\n",
      "https://n.news.naver.com/mnews/article/421/0008180201\n",
      "\"생활형 AI 시대 연다\"…뤼튼테크놀로지스 '뤼튼 3.0' 발표\n",
      "\n",
      "https://n.news.naver.com/mnews/article/comment/421/0008180201\n",
      "https://n.news.naver.com/mnews/article/030/0003301273\n",
      "뤼튼, 전국민 1인 1AI 시대 연다…무료 넘어 소득까지 창출\n",
      "\n",
      "https://n.news.naver.com/mnews/article/comment/030/0003301273\n",
      "https://n.news.naver.com/mnews/article/009/0005472650\n",
      "[2025 LCK] 2주차 주말 ‘빅매치’ 열린다…한화 vs T1 맞붙어\n",
      "\n",
      "https://n.news.naver.com/mnews/article/comment/009/0005472650\n",
      "https://n.news.naver.com/mnews/article/277/0005574566\n",
      "뤼튼 \"개인화 서비스로 AI의 생활화, 1인 1AI 시대 열 것\"\n",
      "\n",
      "https://n.news.naver.com/mnews/article/comment/277/0005574566\n",
      "https://n.news.naver.com/mnews/article/028/0002739832\n",
      "‘왕좌의 게임’ 늑대, 현실 등장…7만년 된 두개골 DNA로 복원\n",
      "\n",
      "https://n.news.naver.com/mnews/article/comment/028/0002739832\n",
      "https://n.news.naver.com/mnews/article/011/0004471523\n",
      "15% 감원 인텔, 새 선장 맞아 AI·GPU 인력 대거 채용\n",
      "\n",
      "https://n.news.naver.com/mnews/article/comment/011/0004471523\n",
      "https://n.news.naver.com/mnews/article/092/0002369801\n",
      "티메프 사태 구영배 대표 등 혐의사실 부인…\"경영 판단이었다\"\n",
      "\n",
      "https://n.news.naver.com/mnews/article/comment/092/0002369801\n",
      "https://n.news.naver.com/mnews/article/138/0002194258\n",
      "정치 ‘무풍지대’ 우주청…“AI와 과학정책 쌍두마차” 전망도\n",
      "\n",
      "https://n.news.naver.com/mnews/article/comment/138/0002194258\n",
      "https://n.news.naver.com/mnews/article/016/0002454308\n",
      "“전국민에 맞는 AI 5000만개 보급할 것”…뤼튼, ‘생활형 AI’ 시대 연다\n",
      "\n",
      "https://n.news.naver.com/mnews/article/comment/016/0002454308\n",
      "https://n.news.naver.com/mnews/article/016/0002454298\n",
      "‘보호필름’ 씌웠더니 “찜통 더위도 OK”…신개념 페로브스카이트 태양전지 등장\n",
      "\n",
      "https://n.news.naver.com/mnews/article/comment/016/0002454298\n"
     ]
    }
   ],
   "source": [
    "dotenv.load_dotenv()\n",
    "\n",
    "# IT/과학 뉴스 \n",
    "req_param = {\n",
    "    'sid': 105\n",
    "}\n",
    "# \n",
    "url = f'https://news.naver.com/section/{req_param[\"sid\"]}'\n",
    "print(f'요청 URL : {url}')\n",
    "\n",
    "# 요청 헤더 설정 : 브라우저 정보\n",
    "req_header = {\n",
    "    'User-Agent': os.getenv('USER_AGENT')\n",
    "}\n",
    "\n",
    "# requests 의 get() 함수 호출하기 \n",
    "r = requests.get(url, headers=req_header)\n",
    "print(f'응답 : {r}')\n",
    "print(type(r))\n",
    "print(f'응답 코드 : {r.status_code}', end='\\n\\n')\n",
    "\n",
    "\n",
    "# 응답(response)이 OK 이면\n",
    "if r.ok:\n",
    "    # 응답 (response)에서 text 추출\n",
    "    r_text = r.text\n",
    "    # BeautifulSoup 객체 생성 \n",
    "    soup = BeautifulSoup(r_text, 'html.parser') \n",
    "    # CSS 선택자\n",
    "    # print(soup.prettify())\n",
    "    # print(soup.select(\"div.sa_text a[href*='mnews/article']\"))\n",
    "\n",
    "    sa_result = soup.select(\"div.sa_text a[href*='mnews/article']\")\n",
    "\n",
    "     # <a> 태그 리스트 순회하기\n",
    "    for i in sa_result:\n",
    "        print(i.get('href'), i.get_text(), sep='')\n",
    "\n",
    "# 응답(response)이 Error 이면 status code 출력 \n",
    "else:\n",
    "    print(f'Error code : {r.status_code}')\n",
    "\n"
   ]
  },
  {
   "cell_type": "markdown",
   "id": "45640860-a449-4285-90d7-5f300292b461",
   "metadata": {},
   "source": [
    "### 1.1 뉴스제목 추출하는 함수 선언하기"
   ]
  },
  {
   "cell_type": "code",
   "execution_count": 6,
   "id": "9f2e4ef8",
   "metadata": {},
   "outputs": [],
   "source": [
    "import requests\n",
    "from bs4 import BeautifulSoup\n",
    "\n",
    "section_dict = {100:'정치',101:'경제',102:'사회',103:'생활/문화',104:'세계',105:'IT/과학'}\n",
    "\n",
    "def print_news(sid, section):  #print_new(103,'생활/문화') \n",
    "    pass"
   ]
  },
  {
   "cell_type": "code",
   "execution_count": 7,
   "id": "858952c6",
   "metadata": {},
   "outputs": [],
   "source": [
    "print_news(103,section_dict[103])"
   ]
  },
  {
   "cell_type": "markdown",
   "id": "323196dc",
   "metadata": {},
   "source": [
    "### 2. Image 다운로드\n",
    "* referer 요청 헤더를 반드시 설정해야 한다."
   ]
  },
  {
   "cell_type": "code",
   "execution_count": null,
   "id": "c72d6cb1",
   "metadata": {},
   "outputs": [],
   "source": [
    "import requests\n",
    "import os\n",
    "\n",
    "req_header = {\n",
    "    'referer':''\n",
    "}\n",
    "\n",
    "img_urls = [\n",
    "    'https://image-comic.pstatic.net/webtoon/798173/5/20220804112251_d97bd1e1b38f0cd022e4e3639d2926b3_IMAG01_1.jpg',\n",
    "    'https://image-comic.pstatic.net/webtoon/798173/5/20220804112251_d97bd1e1b38f0cd022e4e3639d2926b3_IMAG01_2.jpg',\n",
    "    'https://image-comic.pstatic.net/webtoon/798173/5/20220804112251_d97bd1e1b38f0cd022e4e3639d2926b3_IMAG01_3.jpg'\n",
    "]\n",
    "\n",
    "for img_url in img_urls:\n",
    "    # requests 의 get(url, headers) 함수 호출하기 \n",
    "    r = requests.get(img_url, headers=req_header)\n",
    "    if (r.status_code != 200):\n",
    "        print(\"Error : \", r.status_code)\n",
    "        pass\n",
    "\n",
    "    else:\n",
    "        # binary 응답 데이터 가져오기\n",
    "        img_data = r.content\n",
    "        \n",
    "        # url에서 파일명만 추출하기\n",
    "        \n",
    "        \n",
    "        # binday data를 file에 write하기\n"
   ]
  },
  {
   "cell_type": "markdown",
   "id": "e8b00a04",
   "metadata": {},
   "source": [
    "* 현재 요청된 페이지의 image 모두 다운로드 해보기"
   ]
  },
  {
   "cell_type": "code",
   "execution_count": null,
   "id": "b30f7bf5",
   "metadata": {},
   "outputs": [],
   "source": []
  },
  {
   "cell_type": "markdown",
   "id": "2ac9f5f9",
   "metadata": {},
   "source": [
    "### 3. 파일 업로드 하기\n",
    "* http://httpbin.org/post 업로드 요청을 할 수 있는 url"
   ]
  },
  {
   "cell_type": "code",
   "execution_count": 9,
   "id": "04da4790",
   "metadata": {},
   "outputs": [],
   "source": [
    "import requests\n",
    "\n",
    "upload_files = {\n",
    "    \n",
    "}\n",
    "#print(upload_files)\n",
    "\n",
    "url = 'http://httpbin.org/post'\n",
    "# file 업로드 하려면 requests의 post 함수에 files 속성을 사용합니다.\n",
    "\n"
   ]
  },
  {
   "cell_type": "markdown",
   "id": "7ad65f12",
   "metadata": {},
   "source": [
    "### 4. 캡챠(이미지) API 호출하기\n",
    "* urllib 사용\n",
    "* 1. 캡차 키 발급 요청\n",
    "  2. 캡차 이미지 요청\n",
    "  3. 사용자 입력값 검증 요청"
   ]
  },
  {
   "cell_type": "code",
   "execution_count": 10,
   "id": "bc4ae360-e772-4873-8642-d3494edd34e1",
   "metadata": {},
   "outputs": [],
   "source": [
    "# 캡차 키 발급 요청\n"
   ]
  },
  {
   "cell_type": "code",
   "execution_count": 11,
   "id": "7b95b6a0-c218-4792-82a6-da4d80872071",
   "metadata": {},
   "outputs": [],
   "source": [
    "# 캡차 이미지 요청\n"
   ]
  },
  {
   "cell_type": "code",
   "execution_count": 12,
   "id": "a79076af-2cd0-4de2-8301-316b9130c55e",
   "metadata": {},
   "outputs": [],
   "source": [
    "#  사용자 입력값 검증 요청\n",
    "\n"
   ]
  },
  {
   "cell_type": "markdown",
   "id": "b7d984a6",
   "metadata": {},
   "source": [
    "* requests를 사용하는 코드로 변경하기\n",
    "* [requests docs](https://requests.readthedocs.io/en/latest/user/quickstart/)"
   ]
  },
  {
   "cell_type": "code",
   "execution_count": 13,
   "id": "727b427b",
   "metadata": {
    "scrolled": true
   },
   "outputs": [],
   "source": [
    "# 사용자 입력값 검증 요청\n",
    "\n"
   ]
  },
  {
   "cell_type": "markdown",
   "id": "d5e1179a",
   "metadata": {},
   "source": [
    "### 5. 블로그 검색하기"
   ]
  },
  {
   "cell_type": "code",
   "execution_count": 14,
   "id": "877d0c7f",
   "metadata": {},
   "outputs": [],
   "source": [
    "import requests\n",
    "import pprint\n",
    "\n",
    "headers = {\n",
    "    'X-Naver-Client-Id': '',\n",
    "    'X-Naver-Client-Secret': '',\n",
    "}\n",
    "\n",
    "payload = {\n",
    "    'query': '파이썬',\n",
    "    'display': 100,\n",
    "    'sort': 'sim'\n",
    "}\n",
    "\n",
    "url = 'https://openapi.naver.com/v1/search/blog.json'\n",
    "\n",
    "\n",
    "# requests get(url, params, headers) 요청 \n",
    "\n",
    "# json() 함수로 응답 결과 가져오오기\n",
    "# 'title' , 'bloggername' , 'description' , 'bloggerlink' , 'link'\n",
    "\n",
    "# 'data/nhnblog.txt' 파일 생성하기\n"
   ]
  }
 ],
 "metadata": {
  "kernelspec": {
   "display_name": "test",
   "language": "python",
   "name": "python3"
  },
  "language_info": {
   "codemirror_mode": {
    "name": "ipython",
    "version": 3
   },
   "file_extension": ".py",
   "mimetype": "text/x-python",
   "name": "python",
   "nbconvert_exporter": "python",
   "pygments_lexer": "ipython3",
   "version": "3.9.21"
  }
 },
 "nbformat": 4,
 "nbformat_minor": 5
}
