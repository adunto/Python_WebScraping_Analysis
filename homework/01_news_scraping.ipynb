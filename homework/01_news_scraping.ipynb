{
 "cells": [
  {
   "cell_type": "markdown",
   "id": "4486b011",
   "metadata": {},
   "source": [
    " \n",
    " ### 질문:  아래의 url에서 뉴스기사의 링크와 제목을 출력하세요.\n",
    "    다음 경제 뉴스 URL\n",
    "    ## url = 'https://news.daum.net/economy'\n",
    "\n",
    "    파일명: 01_news_scraping.ipynb"
   ]
  },
  {
   "cell_type": "code",
   "execution_count": 2,
   "id": "0284e166",
   "metadata": {},
   "outputs": [],
   "source": [
    "import requests\n",
    "from bs4 import BeautifulSoup\n",
    "import os"
   ]
  },
  {
   "cell_type": "code",
   "execution_count": 5,
   "id": "2e08da7d",
   "metadata": {},
   "outputs": [
    {
     "name": "stdout",
     "output_type": "stream",
     "text": [
      "요청 URL : https://news.daum.net/economy\n",
      "타입 : <class 'requests.models.Response'>\n",
      "상태 코드 : 200\n",
      "https://v.daum.net/v/20250408144527816\n",
      "국제유가 하락에 흔들리는 정유업계…실적 먹구름 짙어진다\n",
      "\n",
      "https://v.daum.net/v/20250408143527180\n",
      "갤25로 실적 선방…삼성, 관세로 2분기는 불투명\n",
      "\n",
      "https://v.daum.net/v/20250408140753767\n",
      "조양호 한진그룹 선대회장 6주기… ‘45년 항공산업’ 리더십 재조명\n",
      "\n",
      "https://v.daum.net/v/20250408140302580\n",
      "미국 최대 은행이 \"여성 경영인이 경제 원동력\"이라 말한 이유\n",
      "\n",
      "https://v.daum.net/v/20250408124446384\n",
      "불평등 부채질하는 재난: 환경부는 약자 비명 듣고 있나요?\n",
      "\n",
      "https://v.daum.net/v/20250408121010759\n",
      "\"아무도 대신 챙겨주지 않습니다\" 퇴직금으론 부족한 은퇴 후 삶 \"개인 연금 중요\"\n",
      "\n",
      "https://v.daum.net/v/20250408120454629\n",
      "정년 연장에 '청년 고통'…취준생 일자리 11만개 사라졌다\n",
      "\n",
      "https://v.daum.net/v/20250408120010314\n",
      "한은 \"정년연장? 퇴직 후 재고용!\"…소득공백기 179만원 더 번다\n",
      "\n",
      "https://v.daum.net/v/20250408120000281\n",
      "지자체 대부업 자본금 요건 상향…개인 1억·법인 3억원으로\n",
      "\n"
     ]
    }
   ],
   "source": [
    "# 요청 헤더 설정 : 브라우저 정보\n",
    "req_header = {\n",
    "    'User-Agent': os.getenv('USER_AGENT')\n",
    "}\n",
    "\n",
    "r = requests.get('https://news.daum.net/economy', headers=req_header)\n",
    "# 한글 깨짐 encoding 설정\n",
    "r.encoding = 'utf-8'\n",
    "\n",
    "print(\"요청 URL : \" + r.url)\n",
    "print(\"타입 : \" + str(type(r)))\n",
    "print(\"상태 코드 : \" + str(r.status_code))\n",
    "\n",
    "soup = BeautifulSoup(r.text, 'html.parser')\n",
    "\n",
    "sa_links = soup.select('.item_newsheadline2')\n",
    "\n",
    "sa_links_text = [link.get('href') for link in sa_links]\n",
    "\n",
    "\n",
    "sa_titles = soup.select('.item_newsheadline2 > .cont_thumb > strong')\n",
    "\n",
    "sa_titles_text = [title.get_text() for title in sa_titles]\n",
    "\n",
    "sa_combined = list(zip(sa_titles_text, sa_links_text))\n",
    "for title, link in sa_combined:\n",
    "    print(f\"{link}\\n{title}\\n\")"
   ]
  },
  {
   "cell_type": "markdown",
   "id": "13d5d0ef",
   "metadata": {},
   "source": [
    "### 질문:  여러개의 section 중 하나를 선택해서 url에서 뉴스기사의 링크와 제목을 출력하는 코드를 함수로 작성하기\n",
    "    \n",
    "    # 경제 뉴스 URL\n",
    "    url = 'https://news.daum.net/economy'\n",
    "    # 사회 뉴스 URL\n",
    "    url = 'https://news.daum.net/society'\n"
   ]
  },
  {
   "cell_type": "code",
   "execution_count": null,
   "id": "9c5b4c83",
   "metadata": {},
   "outputs": [],
   "source": [
    "# print_news() 함수에서 \n",
    "# section name (섹션명)을 입력 받아서 section_dict에서 section 영문 문자열을 추출해서    \n",
    "# url을 생성합니다.\n",
    "# 그 이후의 코드는 1)번 문제와 동일합니다."
   ]
  },
  {
   "cell_type": "code",
   "execution_count": 6,
   "id": "c6f7944b",
   "metadata": {},
   "outputs": [],
   "source": [
    "def print_news():\n",
    "    section_name = input(\"뉴스 섹션을 입력하세요 : \")\n",
    "    section_dict = {\n",
    "        '정치': 'politics',\n",
    "        '경제': 'economy',\n",
    "        '사회': 'society',\n",
    "        '생활': 'life',\n",
    "        '세계': 'world',\n",
    "        'IT': 'it'\n",
    "    }\n",
    "    if section_name in section_dict:\n",
    "        url = f\"http://news.daum.net/{section_dict[section_name]}\"\n",
    "        return url\n",
    "    else:\n",
    "        print(\"지원하지 않는 섹션입니다.\")\n",
    "        return None\n"
   ]
  },
  {
   "cell_type": "code",
   "execution_count": 15,
   "id": "8423ff65",
   "metadata": {},
   "outputs": [
    {
     "name": "stdout",
     "output_type": "stream",
     "text": [
      "http://news.daum.net/economy\n",
      "요청 URL : https://news.daum.net/economy\n",
      "타입 : <class 'requests.models.Response'>\n",
      "상태 코드 : 200\n",
      "https://v.daum.net/v/20250408152230683\n",
      "'트럼프 관세 정책' 세계 경제 '메가톤급' 층격\n",
      "\n",
      "https://v.daum.net/v/20250408144527816\n",
      "국제유가 하락에 흔들리는 정유업계…실적 먹구름 짙어진다\n",
      "\n",
      "https://v.daum.net/v/20250408143527180\n",
      "갤25로 실적 선방…삼성, 관세로 2분기는 불투명\n",
      "\n",
      "https://v.daum.net/v/20250408140753767\n",
      "조양호 한진그룹 선대회장 6주기… ‘45년 항공산업’ 리더십 재조명\n",
      "\n",
      "https://v.daum.net/v/20250408140302580\n",
      "미국 최대 은행이 \"여성 경영인이 경제 원동력\"이라 말한 이유\n",
      "\n",
      "https://v.daum.net/v/20250408124446384\n",
      "불평등 부채질하는 재난: 환경부는 약자 비명 듣고 있나요?\n",
      "\n",
      "https://v.daum.net/v/20250408121010759\n",
      "\"아무도 대신 챙겨주지 않습니다\" 퇴직금으론 부족한 은퇴 후 삶 \"개인 연금 중요\"\n",
      "\n",
      "https://v.daum.net/v/20250408120454629\n",
      "정년 연장에 '청년 고통'…취준생 일자리 11만개 사라졌다\n",
      "\n",
      "https://v.daum.net/v/20250408120010314\n",
      "한은 \"정년연장? 퇴직 후 재고용!\"…소득공백기 179만원 더 번다\n",
      "\n"
     ]
    }
   ],
   "source": [
    "section_url = print_news()\n",
    "print(section_url)\n",
    "if section_url:\n",
    "    # 요청 헤더 설정 : 브라우저 정보\n",
    "    req_header = {\n",
    "        'User-Agent': os.getenv('USER_AGENT')\n",
    "    }\n",
    "\n",
    "    r = requests.get(section_url, headers=req_header)\n",
    "    # 한글 깨짐 encoding 설정\n",
    "    r.encoding = 'utf-8'\n",
    "\n",
    "    print(\"요청 URL : \" + r.url)\n",
    "    print(\"타입 : \" + str(type(r)))\n",
    "    print(\"상태 코드 : \" + str(r.status_code))\n",
    "\n",
    "    soup = BeautifulSoup(r.text, 'html.parser')\n",
    "\n",
    "    sa_links = soup.select('.item_newsheadline2')\n",
    "\n",
    "    sa_links_text = [link.get('href') for link in sa_links]\n",
    "\n",
    "\n",
    "    sa_titles = soup.select('.item_newsheadline2 > .cont_thumb > strong')\n",
    "\n",
    "    sa_titles_text = [title.get_text() for title in sa_titles]\n",
    "\n",
    "    sa_combined = list(zip(sa_titles_text, sa_links_text))\n",
    "    for title, link in sa_combined:\n",
    "        print(f\"{link}\\n{title}\\n\")"
   ]
  }
 ],
 "metadata": {
  "kernelspec": {
   "display_name": "test",
   "language": "python",
   "name": "python3"
  },
  "language_info": {
   "codemirror_mode": {
    "name": "ipython",
    "version": 3
   },
   "file_extension": ".py",
   "mimetype": "text/x-python",
   "name": "python",
   "nbconvert_exporter": "python",
   "pygments_lexer": "ipython3",
   "version": "3.9.21"
  }
 },
 "nbformat": 4,
 "nbformat_minor": 5
}
