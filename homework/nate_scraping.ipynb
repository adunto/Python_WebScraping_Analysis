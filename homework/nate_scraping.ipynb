{
 "cells": [
  {
   "cell_type": "markdown",
   "id": "37a9b004",
   "metadata": {},
   "source": [
    "## 연습문제는 수요일 밤 12시까지 제출해 주세요.\n",
    "# Nate 뉴스기사 제목 스크래핑하기 (필수)\n",
    "\n",
    "https://news.nate.com/recent?mid=n0100\n",
    "\n",
    "최신뉴스, 정치 , 경제, 사회, 세계, IT/과학\n",
    "\n",
    "6개의 섹션의 뉴스를 출력하는 함수를 생성하여 스크래핑 하기\n",
    "\n",
    "Image, 기사제목, 기사링크\n",
    "\n",
    "뉴스기사의 Image를 출력 하세요 \n",
    "1) Image의 상대경로와 절대 경로를 합치려면 urljoin 함수를 사용하세요.\n",
    "    from urllib.parse import urljoin\n",
    "\n",
    "2) Image 출력은 Image 클래스와 display 함수를 사용하세요.\n",
    "    from IPython.display import Image, display\n",
    "\n",
    "3) img 엘리먼트의 존재 여부를 체크하신 후에 src 속성의 이미지를 경로를 추출하기\n",
    "  => Image 가 없는 뉴스도 있기 때문에 \n"
   ]
  },
  {
   "cell_type": "code",
   "execution_count": 10,
   "id": "cc84c8dc",
   "metadata": {},
   "outputs": [],
   "source": [
    "import requests\n",
    "import os\n",
    "from dotenv import load_dotenv\n",
    "from bs4 import BeautifulSoup\n",
    "import datetime\n",
    "from urllib.parse import urljoin\n",
    "# 이미지 출력\n",
    "from IPython.display import Image, display"
   ]
  },
  {
   "cell_type": "code",
   "execution_count": null,
   "id": "b04e6327",
   "metadata": {},
   "outputs": [
    {
     "name": "stdout",
     "output_type": "stream",
     "text": [
      "요청 url :  https://news.nate.com/section?mid=n0500\n",
      "도미니카공화국 나이트클럽 붕괴 사망자 최소 98명으로 늘어\n"
     ]
    },
    {
     "data": {
      "text/html": [
       "<img src=\"https://thumbnews.nateimg.co.kr/news90///news.nateimg.co.kr/orgImg/yt/2025/04/09/AKR20250409122300009_01_i.jpg\"/>"
      ],
      "text/plain": [
       "<IPython.core.display.Image object>"
      ]
     },
     "metadata": {},
     "output_type": "display_data"
    },
    {
     "name": "stdout",
     "output_type": "stream",
     "text": [
      "관세 전쟁에 '국난' 선언한 일본, 1인당 최대 100만원 지원 검토\n"
     ]
    },
    {
     "data": {
      "text/html": [
       "<img src=\"https://thumbnews.nateimg.co.kr/news90///news.nateimg.co.kr/orgImg/hi/2025/04/09/f7c24ad5-b62b-4c71-924f-04abfb1d00c6.jpg\"/>"
      ],
      "text/plain": [
       "<IPython.core.display.Image object>"
      ]
     },
     "metadata": {},
     "output_type": "display_data"
    },
    {
     "name": "stdout",
     "output_type": "stream",
     "text": [
      "관세 싫으면 방위비 10배 더? 트럼프 \"한국과 원스톱 쇼핑\"\n"
     ]
    },
    {
     "data": {
      "text/html": [
       "<img src=\"https://thumbnews.nateimg.co.kr/news90///news.nateimg.co.kr/orgImg/jt/2025/04/09/20250409185641991001.jpg\"/>"
      ],
      "text/plain": [
       "<IPython.core.display.Image object>"
      ]
     },
     "metadata": {},
     "output_type": "display_data"
    },
    {
     "name": "stdout",
     "output_type": "stream",
     "text": [
      "머스크 이어 동생도 트럼프 관세 책사 비난 가세…\"해고하시라\"\n"
     ]
    },
    {
     "data": {
      "text/html": [
       "<img src=\"https://thumbnews.nateimg.co.kr/news90///news.nateimg.co.kr/orgImg/yt/2025/04/09/AKR20250409139300009_01_i.jpg\"/>"
      ],
      "text/plain": [
       "<IPython.core.display.Image object>"
      ]
     },
     "metadata": {},
     "output_type": "display_data"
    },
    {
     "name": "stdout",
     "output_type": "stream",
     "text": [
      "할아버지 또 \"나 때는 말이야\"…다 들어주는 中 요양원 귀요미 정체\n"
     ]
    },
    {
     "data": {
      "text/html": [
       "<img src=\"https://thumbnews.nateimg.co.kr/news90///news.nateimg.co.kr/orgImg/ae/2025/04/09/ae_1744177087285_666995_0.png\"/>"
      ],
      "text/plain": [
       "<IPython.core.display.Image object>"
      ]
     },
     "metadata": {},
     "output_type": "display_data"
    },
    {
     "name": "stdout",
     "output_type": "stream",
     "text": [
      "\"나도 군사 퍼레이드 할래\" 역대급 예산에도 트럼프가 포기 못하는 이유\n"
     ]
    },
    {
     "data": {
      "text/html": [
       "<img src=\"https://thumbnews.nateimg.co.kr/news90///news.nateimg.co.kr/orgImg/yn/2025/04/09/202504091335089717_t.jpg\"/>"
      ],
      "text/plain": [
       "<IPython.core.display.Image object>"
      ]
     },
     "metadata": {},
     "output_type": "display_data"
    },
    {
     "name": "stdout",
     "output_type": "stream",
     "text": [
      "\"중국인이네? 미국서 당장 나가\"…일방적 추방 공포에 숨 못 쉬는 유학생들\n"
     ]
    },
    {
     "data": {
      "text/html": [
       "<img src=\"https://thumbnews.nateimg.co.kr/news90///news.nateimg.co.kr/orgImg/mk/2025/04/09/news-p.v1.20250409.624f73d1ee814e00b451b8d6fc34c7e2_P1.png\"/>"
      ],
      "text/plain": [
       "<IPython.core.display.Image object>"
      ]
     },
     "metadata": {},
     "output_type": "display_data"
    },
    {
     "name": "stdout",
     "output_type": "stream",
     "text": [
      "\"건네준 국수 먹었다가\"…'강간 공화국' 인도서 벌어진 충격적 사건\n"
     ]
    },
    {
     "data": {
      "text/html": [
       "<img src=\"https://thumbnews.nateimg.co.kr/news90///news.nateimg.co.kr/orgImg/fn/2025/04/09/202411070630259710_l.jpg\"/>"
      ],
      "text/plain": [
       "<IPython.core.display.Image object>"
      ]
     },
     "metadata": {},
     "output_type": "display_data"
    },
    {
     "name": "stdout",
     "output_type": "stream",
     "text": [
      "젤렌스키 \"러시아군 편에서 싸우던 중국인 2명 생포\"\n"
     ]
    },
    {
     "data": {
      "text/html": [
       "<img src=\"https://thumbnews.nateimg.co.kr/news90///news.nateimg.co.kr/orgImg/mt/2025/04/09/2025040907532187794_1.jpg\"/>"
      ],
      "text/plain": [
       "<IPython.core.display.Image object>"
      ]
     },
     "metadata": {},
     "output_type": "display_data"
    },
    {
     "name": "stdout",
     "output_type": "stream",
     "text": [
      "아베의 '절친 전략' 지켜본 이시바, 美와 가장 먼저 협상팀 만들었다\n"
     ]
    },
    {
     "data": {
      "text/html": [
       "<img src=\"https://thumbnews.nateimg.co.kr/news90///news.nateimg.co.kr/orgImg/ch/2025/04/09/ch_1744146500228_81027_0.jpg\"/>"
      ],
      "text/plain": [
       "<IPython.core.display.Image object>"
      ]
     },
     "metadata": {},
     "output_type": "display_data"
    }
   ],
   "source": [
    "load_dotenv()\n",
    "\n",
    "today = datetime.date.today().strftime('%Y%m%d')\n",
    "\n",
    "# https://news.nate.com/recent?mid=n0100\n",
    "# https://news.nate.com/section?mid=n0200\n",
    "topic_dic = {\n",
    "    '최신뉴스': '/recent?mid=n0100',\n",
    "    '정치': '/section?mid=n0200',\n",
    "    '경제': '/section?mid=n0300',\n",
    "    '사회': '/section?mid=n0400',\n",
    "    '세계': '/section?mid=n0500',\n",
    "    'IT': '/section?mid=n0600'\n",
    "}\n",
    "\n",
    "topic = input(\"주제 입력 : \")\n",
    "\n",
    "try:\n",
    "    topic_url = topic_dic.get(topic)\n",
    "    if not topic_url:\n",
    "        raise ValueError(\"존재하지 않은 주제\")\n",
    "except ValueError as e:\n",
    "    print(e)\n",
    "\n",
    "\n",
    "\n",
    "else:\n",
    "    # 네이트 뉴스\n",
    "    url = \"https://news.nate.com\"\n",
    "    \n",
    "    url = urljoin(url, topic_url)\n",
    "\n",
    "    request_header = {\n",
    "        'UserAgent' : os.getenv(\"USER_AGENT\")\n",
    "    }\n",
    "\n",
    "    r = requests.get(url, headers=request_header)\n",
    "    \n",
    "    print(\"요청 url : \", r.url)\n",
    "\n",
    "    if r.ok:\n",
    "        r_text = r.text\n",
    "        \n",
    "        soup = BeautifulSoup(r_text, \"html.parser\")            \n",
    "        \n",
    "        sa_items = soup.select('.mlt01')\n",
    "        \n",
    "        for item in sa_items:\n",
    "            title_element = item.select_one('.tit')\n",
    "            img_element = item.select_one('img')\n",
    "            \n",
    "            if title_element:\n",
    "                title = title_element.get_text(strip=True)\n",
    "                print(title)\n",
    "                \n",
    "                # 이미지가 존재하면\n",
    "                if img_element:\n",
    "                    img_src = img_element.get('src')\n",
    "                    img_url = urljoin(url, img_src)\n",
    "                    display(Image(url=img_url))\n",
    "                else:\n",
    "                    print(\"이미지 없음\")\n",
    "    \n",
    "    \n",
    "        \n"
   ]
  }
 ],
 "metadata": {
  "kernelspec": {
   "display_name": "test",
   "language": "python",
   "name": "python3"
  },
  "language_info": {
   "codemirror_mode": {
    "name": "ipython",
    "version": 3
   },
   "file_extension": ".py",
   "mimetype": "text/x-python",
   "name": "python",
   "nbconvert_exporter": "python",
   "pygments_lexer": "ipython3",
   "version": "3.9.21"
  }
 },
 "nbformat": 4,
 "nbformat_minor": 5
}
