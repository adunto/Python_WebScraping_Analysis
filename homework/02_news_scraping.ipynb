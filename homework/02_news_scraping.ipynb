{
 "cells": [
  {
   "cell_type": "code",
   "execution_count": 2,
   "id": "ed45a268",
   "metadata": {},
   "outputs": [],
   "source": [
    "import requests\n",
    "from bs4 import BeautifulSoup\n",
    "import os\n",
    "from dotenv import load_dotenv"
   ]
  },
  {
   "cell_type": "code",
   "execution_count": 20,
   "id": "cde723c7",
   "metadata": {},
   "outputs": [
    {
     "data": {
      "text/plain": [
       "True"
      ]
     },
     "execution_count": 20,
     "metadata": {},
     "output_type": "execute_result"
    }
   ],
   "source": [
    "section_dict = {\n",
    "    '정치': 'politics',\n",
    "    '사회': 'national',\n",
    "    '국제' : 'international',\n",
    "    '건강': 'medical',\n",
    "    '재테크': 'investment'\n",
    "}\n",
    "load_dotenv()"
   ]
  },
  {
   "cell_type": "code",
   "execution_count": null,
   "id": "26ec4afd",
   "metadata": {},
   "outputs": [
    {
     "name": "stdout",
     "output_type": "stream",
     "text": [
      "요청 URL : https://www.chosun.com/politics/\n",
      "응답 : <Response [200]>\n",
      "<class 'requests.models.Response'>\n",
      "응답 코드 : 200\n",
      "\n",
      "尹 대학·사시동기 이완규 계엄 관련 \"대통령이란 사람이…\"\n",
      "민주 \"한덕수의 헌재 후임 지명 무효... 효력정지 가처분 신청\"\n",
      "안철수, 대선 출마 선언 \"이재명에 맞설 유일한 후보\"\n",
      "\"한덕수의 헌재 후임 지명은 무효\" 민주, 효력 정지 신청\n",
      "韓대행, 마은혁 헌법재판관 임명… 이완규·함상훈도 지명    \n",
      "尹 대학·연수원 동기 이완규, \"대통령이라는 사람이…\" 계엄 비판\n",
      "韓대행,마은혁 헌법재판관 임명…이완규·함상훈 지명\n",
      "김동연 경기지사, 9일 대선 출마 선언...지사직 유지한 채 경선 참여\n",
      "안철수, 대선 출마 선언 \"시대교체, 국민통합 시대로\" \n",
      "김동연, 내일 대선 출마 선언…  경기지사직 유지한 채 경선 참여\n"
     ]
    }
   ],
   "source": [
    "# 조선일보 / 정치\n",
    "url = 'https://www.chosun.com/politics/'\n",
    "\n",
    "print(f\"요청 URL : {url}\")\n",
    "\n",
    "# 요청 헤더 설정 : 브라우저 정보\n",
    "req_header = {\"User-Agent\": os.getenv(\"USER_AGENT\")}\n",
    "\n",
    "# requests 의 get() 함수 호출하기\n",
    "r = requests.get(url, headers=req_header)\n",
    "print(f\"응답 : {r}\")\n",
    "print(type(r))\n",
    "print(f\"응답 코드 : {r.status_code}\", end=\"\\n\\n\")\n",
    "\n",
    "soup = BeautifulSoup(r.text, 'html.parser')\n",
    "s_titles = soup.select('.story-card__headline > span')\n",
    "s_titles = list(set(s_titles))  # 중복 제거\n",
    "\n",
    "for s_title in s_titles:\n",
    "    s_title = s_title.get_text()\n",
    "    print(s_title)\n",
    "\n"
   ]
  }
 ],
 "metadata": {
  "kernelspec": {
   "display_name": "test",
   "language": "python",
   "name": "python3"
  },
  "language_info": {
   "codemirror_mode": {
    "name": "ipython",
    "version": 3
   },
   "file_extension": ".py",
   "mimetype": "text/x-python",
   "name": "python",
   "nbconvert_exporter": "python",
   "pygments_lexer": "ipython3",
   "version": "3.9.21"
  }
 },
 "nbformat": 4,
 "nbformat_minor": 5
}
